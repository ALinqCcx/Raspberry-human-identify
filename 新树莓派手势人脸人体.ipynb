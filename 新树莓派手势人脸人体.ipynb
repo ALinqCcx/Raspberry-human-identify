{
 "cells": [
  {
   "attachments": {},
   "cell_type": "markdown",
   "metadata": {},
   "source": [
    "<center><img src=\"../logo.png\" alt=\"Header\" style=\"width: 800px;\"/></center>"
   ]
  },
  {
   "attachments": {},
   "cell_type": "markdown",
   "metadata": {},
   "source": [
    "\n",
    "@Copyright (C): 2010-2020, Shenzhen Yahboom Tech  \n",
    "@Author: Liusen  \n",
    "@Date: 2020-02-24 11:10:02  \n",
    "@LastEditors: Liusen  \n",
    "@LastEditTime: 2020-02-24 11:10:02    "
   ]
  },
  {
   "cell_type": "code",
   "execution_count": 1,
   "metadata": {},
   "outputs": [],
   "source": [
    "#bgr8转jpeg格式\n",
    "import enum\n",
    "import cv2\n",
    "import numpy as np\n",
    "# 线程功能操作库\n",
    "import threading\n",
    "import inspect\n",
    "import ctypes\n",
    "import traitlets\n",
    "from IPython.display import display, clear_output\n",
    "\n",
    "def bgr8_to_jpeg(value, quality=75):\n",
    "    return bytes(cv2.imencode('.jpg', value)[1])"
   ]
  },
  {
   "attachments": {},
   "cell_type": "markdown",
   "metadata": {},
   "source": [
    "# 定义手势识别函数部分"
   ]
  },
  {
   "cell_type": "code",
   "execution_count": 9,
   "metadata": {},
   "outputs": [],
   "source": [
    "import cv2 \n",
    "import time\n",
    "import demjson\n",
    "import pygame \n",
    "from aip import AipBodyAnalysis\n",
    "from aip import AipSpeech\n",
    "from PIL import Image, ImageDraw, ImageFont\n",
    "import numpy\n",
    "import ipywidgets.widgets as widgets\n",
    "\n",
    "# 具体手势请看官方提供 https://ai.baidu.com/ai-doc/BODY/4k3cpywrv\n",
    "hand={'One':'数字1','Five':'数字5','Fist':'拳头','Ok':'OK',\n",
    "      'Prayer':'祈祷','Congratulation':'作揖','Honour':'作别',\n",
    "      'Heart_single':'比心心','Thumb_up':'点赞','Thumb_down':'Diss',\n",
    "      'ILY':'我爱你','Palm_up':'掌心向上','Heart_1':'双手比心1',\n",
    "      'Heart_2':'双手比心2','Heart_3':'双手比心3','Two':'数字2',\n",
    "      'Three':'数字3','Four':'数字4','Six':'数字6','Seven':'数字7',\n",
    "      'Eight':'数字8','Nine':'数字9','Rock':'Rock','Insult':'竖中指','Face':'脸'}\n",
    "\n",
    "# 下面的key要换成自己的 \n",
    "\"\"\" 人体分析 APPID AK SK \"\"\"\n",
    "APP_ID = ''\n",
    "API_KEY = ''\n",
    "SECRET_KEY = ''\n",
    "\n",
    "\n",
    "\n",
    "#调用百度AI人体分析接口\n",
    "client = AipBodyAnalysis(APP_ID, API_KEY, SECRET_KEY)\n",
    "\n",
    "#打开摄像机并设置初始参数\n",
    "g_camera = cv2.VideoCapture(0)\n",
    "g_camera.set(3, 640)\n",
    "g_camera.set(4, 480)\n",
    "g_camera.set(5, 30)  #设置帧率\n",
    "g_camera.set(cv2.CAP_PROP_FOURCC, cv2.VideoWriter.fourcc('M', 'J', 'P', 'G'))\n",
    "g_camera.set(cv2.CAP_PROP_BRIGHTNESS, 40) #设置亮度 -64 - 64  0.0\n",
    "g_camera.set(cv2.CAP_PROP_CONTRAST, 50) #设置对比度 -64 - 64  2.0\n",
    "g_camera.set(cv2.CAP_PROP_EXPOSURE, 156) #设置曝光值 1.0 - 5000  156.0\n",
    "ret, frame = g_camera.read()\n"
   ]
  },
  {
   "attachments": {},
   "cell_type": "markdown",
   "metadata": {},
   "source": [
    "# 定义摄像头显示组件"
   ]
  },
  {
   "cell_type": "code",
   "execution_count": 10,
   "metadata": {},
   "outputs": [
    {
     "data": {
      "application/vnd.jupyter.widget-view+json": {
       "model_id": "ce439a64d3f84032842c7e042a6d828f",
       "version_major": 2,
       "version_minor": 0
      },
      "text/plain": [
       "HBox(children=(Image(value=b'', format='jpeg', height='240', width='320'), Image(value=b'', format='jpeg', hei…"
      ]
     },
     "metadata": {},
     "output_type": "display_data"
    }
   ],
   "source": [
    "#设置摄像头显示组件\n",
    "image_widget = widgets.Image(format='jpeg', width=320, height=240)  \n",
    "face_widget = widgets.Image(format='jpeg', width=320, height=240)\n",
    "body_widget=widgets.Image(format='jpeg', width=320, height=240)\n",
    "# create a horizontal box container to place the image widget next to eachother\n",
    "image_container = widgets.HBox([image_widget,face_widget,body_widget])\n",
    "\n",
    "display(image_container)\n",
    "image_widget.value = bgr8_to_jpeg(frame)\n",
    "face_widget.value = bgr8_to_jpeg(frame)\n",
    "body_widget.value=bgr8_to_jpeg(frame)"
   ]
  },
  {
   "attachments": {},
   "cell_type": "markdown",
   "metadata": {},
   "source": [
    "# 定义转换显示中文函数"
   ]
  },
  {
   "cell_type": "code",
   "execution_count": 11,
   "metadata": {},
   "outputs": [],
   "source": [
    "#在图像上添加识别结果文字\n",
    "def cv2ImgAddText(img, text, left, top, textColor=(0, 255, 0), textSize=20):\n",
    "    if (isinstance(img, numpy.ndarray)):  # 判断是否OpenCV图片类型\n",
    "        img = Image.fromarray(cv2.cvtColor(img, cv2.COLOR_BGR2RGB))\n",
    "    # 创建一个可以在给定图像上绘图的对象\n",
    "    draw = ImageDraw.Draw(img)\n",
    "    # 字体的格式\n",
    "    fontStyle = ImageFont.truetype(\n",
    "        \"simhei.ttf\", textSize, encoding=\"utf-8\")\n",
    "    # 绘制文本\n",
    "    draw.text((left, top), text, textColor, font=fontStyle)\n",
    "    # 转换回OpenCV格式\n",
    "    return cv2.cvtColor(numpy.asarray(img), cv2.COLOR_RGB2BGR)"
   ]
  },
  {
   "cell_type": "code",
   "execution_count": 12,
   "metadata": {},
   "outputs": [],
   "source": [
    "#线程相关函数\n",
    "def _async_raise(tid, exctype):\n",
    "    \"\"\"raises the exception, performs cleanup if needed\"\"\"\n",
    "    tid = ctypes.c_long(tid)\n",
    "    if not inspect.isclass(exctype):\n",
    "        exctype = type(exctype)\n",
    "    res = ctypes.pythonapi.PyThreadState_SetAsyncExc(tid, ctypes.py_object(exctype))\n",
    "    if res == 0:\n",
    "        raise ValueError(\"invalid thread id\")\n",
    "    elif res != 1:\n",
    "        # \"\"\"if it returns a number greater than one, you're in trouble,\n",
    "        # and you should call it again with exc=NULL to revert the effect\"\"\"\n",
    "        ctypes.pythonapi.PyThreadState_SetAsyncExc(tid, None)\n",
    "        \n",
    "def stop_thread(thread):\n",
    "    _async_raise(thread.ident, SystemExit)"
   ]
  },
  {
   "attachments": {},
   "cell_type": "markdown",
   "metadata": {},
   "source": [
    "# 主进程"
   ]
  },
  {
   "cell_type": "code",
   "execution_count": null,
   "metadata": {},
   "outputs": [],
   "source": []
  },
  {
   "cell_type": "code",
   "execution_count": 13,
   "metadata": {},
   "outputs": [],
   "source": [
    "import base64\n",
    "# body_haar = cv2.CascadeClassifier(\"haarcascade_upperbody.xml\")\n",
    "face_haar = cv2.CascadeClassifier(\"haarcascade_profileface.xml\") \n",
    "#face_haar = cv2.CascadeClassifier(\"haarcascade_fullbody.xml\")\n",
    "#eye_haar = cv2.CascadeClassifier(\"haarcascade_eye.xml\")  \n",
    "eye_haar = cv2.CascadeClassifier(\"haarcascade_eye_tree_eyeglasses.xml\")  \n",
    "def Color_Recongnize():\n",
    "    \n",
    "    while(1):\n",
    "\n",
    "        ret, frame = g_camera.read()\n",
    "\n",
    "         # 1.调用手势识别 \n",
    "        raw = str(client.gesture(image_widget.value))\n",
    "        gray_img = cv2.cvtColor(frame, cv2.COLOR_BGR2GRAY)        \n",
    "        text = demjson.decode(raw)\n",
    "        \n",
    "        #2.人像分割\n",
    "        res = client.bodySeg(bgr8_to_jpeg(frame))\n",
    "        seg_res = client.bodySeg(bgr8_to_jpeg(frame))\n",
    "        if 'labelmap' not in seg_res:\n",
    "            continue\n",
    "        labelmap = base64.b64decode(seg_res['labelmap'])\n",
    "        nparr = np.frombuffer(labelmap, np.uint8)\n",
    "        labelimg = cv2.imdecode(nparr,1)\n",
    "        \n",
    "        new_img = np.where(labelimg==1, 255, labelimg)\n",
    "        \n",
    "        result = cv2.bitwise_and(frame, new_img)\n",
    "        body_widget.value = bgr8_to_jpeg(result)\n",
    "        #clear_output(wait=True)# 刷新显示\n",
    "        \n",
    "\n",
    "        #根据手势识别结果输出文本信息\n",
    "        try:\n",
    "            res = text['result'][0]['classname']\n",
    "        except:\n",
    "            print('识别结果：什么也没识别到哦~' )\n",
    "            # 1 dst 2 文字内容 3 坐标 4 5 字体大小 6 color 7 粗细 8 line type\n",
    "    #       cv2.putText(frame, '未识别', (250,30), cv2.FONT_HERSHEY_SIMPLEX, 1, (0,0,200), 2, cv2.LINE_AA) #只能显示英文\n",
    "            img = cv2ImgAddText(frame, \"未识别\", 250, 30, (0, 0 , 255), 30)\n",
    "        else:\n",
    "            print('识别结果：' + hand[res])\n",
    "            #cv2.putText(frame, hand[res], (250,30), cv2.FONT_HERSHEY_SIMPLEX, 1, (0,0,0), 2, cv2.LINE_AA)\n",
    "            img = cv2ImgAddText(frame, hand[res], 250, 30, (0, 255 , 0), 30)\n",
    "            if(hand[res]=='竖中指'):\n",
    "                print('请注意礼貌,不要竖中指!')\n",
    "            if(hand[res]=='脸'):\n",
    "                print('你真好看!')\n",
    "            if(hand[res]=='比心心' or hand[res]=='我爱你' or hand[res]=='双手比心1' or hand[res]=='双手比心2' or hand[res]=='双手比心3' ):\n",
    "                print('爱你呦!')\n",
    "\n",
    "        image_widget.value = bgr8_to_jpeg(img)\n",
    "        \n",
    "        \n",
    "        #3.人脸识别\n",
    "        try:\n",
    "            faces = face_haar.detectMultiScale(gray_img, 1.1, 3)\n",
    "            for face_x,face_y,face_w,face_h in faces:\n",
    "                cv2.rectangle(frame, (face_x, face_y), (face_x+face_w, face_y+face_h), (0,255,0), 2)\n",
    "                (face_x, face_y, face_w, face_h) = faces[0]\n",
    "                print(faces[0:1])\n",
    "            eyes = eye_haar.detectMultiScale(gray_img, 1.1, 3)\n",
    "            for eye_x,eye_y,eye_w,eye_h in eyes:\n",
    "                cv2.rectangle(frame, (eye_x,eye_y), (eye_x+eye_w, eye_y+eye_h), (255,0,0), 2)\n",
    "    \n",
    "            face_widget.value = bgr8_to_jpeg(frame)\n",
    "        except:\n",
    "            pass\n",
    "        \n",
    "        \n",
    "        time.sleep(0.1)\n",
    "\n",
    "\n",
    "   # g_camera.release()\n",
    "    #cv2.destroyAllWindows()"
   ]
  },
  {
   "cell_type": "code",
   "execution_count": 14,
   "metadata": {},
   "outputs": [
    {
     "name": "stdout",
     "output_type": "stream",
     "text": [
      "识别结果：脸\n",
      "你真好看!\n",
      "[[ 75 233 138 138]]\n",
      "识别结果：脸\n",
      "你真好看!\n",
      "识别结果：脸\n",
      "你真好看!\n",
      "识别结果：脸\n",
      "你真好看!\n",
      "识别结果：脸\n",
      "你真好看!\n",
      "识别结果：脸\n",
      "你真好看!\n",
      "识别结果：脸\n",
      "你真好看!\n",
      "识别结果：脸\n",
      "你真好看!\n",
      "识别结果：脸\n",
      "你真好看!\n",
      "[[ 85 248 105 105]]\n",
      "识别结果：脸\n",
      "你真好看!\n",
      "[[ 94 258  73  73]]\n",
      "识别结果：脸\n",
      "你真好看!\n",
      "[[ 96 259  65  65]]\n",
      "识别结果：脸\n",
      "你真好看!\n",
      "识别结果：脸\n",
      "你真好看!\n",
      "[[ 95 257  71  71]]\n",
      "识别结果：脸\n",
      "你真好看!\n",
      "识别结果：脸\n",
      "你真好看!\n",
      "[[ 86 250  98  98]]\n",
      "识别结果：点赞\n",
      "[[ 85 252 103 103]]\n",
      "识别结果：点赞\n",
      "识别结果：点赞\n",
      "识别结果：点赞\n",
      "识别结果：脸\n",
      "你真好看!\n",
      "[[ 76 227 138 138]]\n",
      "识别结果：脸\n",
      "你真好看!\n",
      "识别结果：脸\n",
      "你真好看!\n",
      "识别结果：脸\n",
      "你真好看!\n",
      "[[ 77 213 142 142]]\n",
      "识别结果：脸\n",
      "你真好看!\n",
      "识别结果：脸\n",
      "你真好看!\n",
      "识别结果：脸\n",
      "你真好看!\n"
     ]
    }
   ],
   "source": [
    "thread1 = threading.Thread(target=Color_Recongnize)\n",
    "thread1.setDaemon(True)\n",
    "thread1.start()"
   ]
  },
  {
   "cell_type": "code",
   "execution_count": 15,
   "metadata": {},
   "outputs": [],
   "source": [
    "#结束进程，只有在结束时才需要执行此段代码\n",
    "stop_thread(thread1)"
   ]
  },
  {
   "cell_type": "code",
   "execution_count": 16,
   "metadata": {},
   "outputs": [],
   "source": [
    "\n",
    "\n",
    " g_camera.release()\n",
    "\n",
    "\n",
    "\n",
    "\n"
   ]
  },
  {
   "cell_type": "code",
   "execution_count": null,
   "metadata": {},
   "outputs": [],
   "source": []
  }
 ],
 "metadata": {
  "kernelspec": {
   "display_name": "Python [conda env:envname] *",
   "language": "python",
   "name": "conda-env-envname-py"
  },
  "language_info": {
   "codemirror_mode": {
    "name": "ipython",
    "version": 3
   },
   "file_extension": ".py",
   "mimetype": "text/x-python",
   "name": "python",
   "nbconvert_exporter": "python",
   "pygments_lexer": "ipython3",
   "version": "3.8.0"
  }
 },
 "nbformat": 4,
 "nbformat_minor": 4
}
